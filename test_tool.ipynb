{
 "cells": [
  {
   "cell_type": "code",
   "execution_count": 1,
   "metadata": {},
   "outputs": [
    {
     "data": {
      "text/plain": [
       "{'mindsdb': {'url': 'http://127.0.0.1:47334',\n",
       "  'project': 'giftguru',\n",
       "  'engine': 'google_gemini_engine',\n",
       "  'model': 'models/gemini-1.5-flash',\n",
       "  'name': 'quira_challenge'},\n",
       " 'engine': {'scraper': {'llm': {'model': 'ollama/llama3',\n",
       "    'temperature': 0.8,\n",
       "    'format': 'json',\n",
       "    'base_url': 'http://localhost:11434'},\n",
       "   'embedding': {'model': 'ollama/nomic-embed-text',\n",
       "    'base_url': 'http://localhost:11434'},\n",
       "   'verbose': True},\n",
       "  'search': {'max_results': 3}}}"
      ]
     },
     "execution_count": 1,
     "metadata": {},
     "output_type": "execute_result"
    }
   ],
   "source": [
    "import os \n",
    "\n",
    "from dotenv import load_dotenv\n",
    "import google.generativeai as genai\n",
    "\n",
    "from giftguru.engines.scraper import ScrapeWebWorker\n",
    "from giftguru.engines.search import TavilyWorker\n",
    "\n",
    "from utils import yaml_read\n",
    "\n",
    "load_dotenv()\n",
    "\n",
    "config = yaml_read(dir='./config.yaml')\n",
    "config"
   ]
  },
  {
   "cell_type": "code",
   "execution_count": 2,
   "metadata": {},
   "outputs": [],
   "source": [
    "GEMINI_API_KEY = os.getenv(\"GEMINI_API_KEY\")\n",
    "GROQ_API_KEY = os.getenv(\"GROQ_API_KEY\")\n",
    "TAVILY_API_KEY = os.getenv(\"TAVILY_API_KEY\")\n",
    "HF_API_KEY = os.getenv(\"HF_API_KEY\")"
   ]
  },
  {
   "cell_type": "code",
   "execution_count": 3,
   "metadata": {},
   "outputs": [],
   "source": [
    "graph_config = {'llm': \n",
    "                    {'model': 'ollama/llama3',\n",
    "                    'temperature': 0.8,\n",
    "                    'format': 'json',\n",
    "                    'base_url': 'http://localhost:11434'},\n",
    "                'embedding': \n",
    "                    {'model': 'ollama/nomic-embed-text',\n",
    "                    'base_url': 'http://localhost:11434'},\n",
    "                'verbose': True}"
   ]
  },
  {
   "cell_type": "code",
   "execution_count": 4,
   "metadata": {},
   "outputs": [],
   "source": [
    "tavily = TavilyWorker(api_key=TAVILY_API_KEY)\n",
    "scraper = ScrapeWebWorker(config=graph_config)"
   ]
  },
  {
   "cell_type": "code",
   "execution_count": 5,
   "metadata": {},
   "outputs": [],
   "source": [
    "prompt = \"What is the best gift for Valentine?\""
   ]
  },
  {
   "cell_type": "code",
   "execution_count": 6,
   "metadata": {},
   "outputs": [
    {
     "data": {
      "text/plain": [
       "{'query': 'What is the best gift for Valentine?',\n",
       " 'follow_up_questions': None,\n",
       " 'answer': \"Some popular Valentine's Day gift ideas include BonBon Limited Edition Valentine's Day Rouge Gift Box for a mix of sweet treats, Voluspa Cherry Gloss Large Jar Candle for a romantic ambiance, Our Place Always Pan 2.0 for a husband, Mark & Graham Small Travel Jewelry Case for a girlfriend, and a silk weighted eye pillow with gel eye mask for relaxation under $25.\",\n",
       " 'images': [],\n",
       " 'results': [{'title': \"31 Best Valentine's Day Gifts for Her of 2024 | Reviews by Wirecutter\",\n",
       "   'url': 'https://www.nytimes.com/wirecutter/gifts/valentines-day-gifts-for-her/',\n",
       "   'content': \"BonBon Limited Edition Valentine's Day Rouge Gift Box. You can mix sweet, sour, chocolate, and black licorice candies from this purveyor of elevated Swedish treats. They come packed in a glossy ...\",\n",
       "   'score': 0.98853,\n",
       "   'raw_content': None},\n",
       "  {'title': \"The 52 best Valentine's Day gifts of 2024 - CNN\",\n",
       "   'url': 'https://www.cnn.com/cnn-underscored/gifts/best-valentines-day-gifts',\n",
       "   'content': \"Voluspa Cherry Gloss Large Jar Candle. Voluspa. This new release from Voluspa is perfect for Valentine's Day — and a candle is a hard gift to get wrong. The intriguing fragrance features ...\",\n",
       "   'score': 0.98156,\n",
       "   'raw_content': None},\n",
       "  {'title': \"62 Best Valentine's Day Gifts for Everyone on Your List\",\n",
       "   'url': 'https://www.glamour.com/story/best-valentines-day-gifts',\n",
       "   'content': \"Best Valentine's Day Gift for Husband: Our Place Always Pan 2.0, $150. Best Valentine's Day Gift for Girlfriend: Mark & Graham Small Travel Jewelry Case, $69. Best Gift for Boyfriend: Truff ...\",\n",
       "   'score': 0.9761,\n",
       "   'raw_content': None},\n",
       "  {'title': \"54 Best Valentine's Day Gifts for Everyone in Your Life in 2024\",\n",
       "   'url': 'https://www.self.com/story/best-valentines-day-gifts',\n",
       "   'content': \"We found romantic gifts like a flirty card game, editor-recommended picks like L'Occitane's hand cream, Revlon's hair dryer brush, and Homebird's clever bird feeder, as well as some cozy ...\",\n",
       "   'score': 0.97586,\n",
       "   'raw_content': None},\n",
       "  {'title': \"61 Best Valentine's Day Gifts for 2024 - Best Products\",\n",
       "   'url': 'https://www.bestproducts.com/lifestyle/g25605800/top-valentines-day-gifts/',\n",
       "   'content': \"This Valentine's Day gift under $25 will block out light and soothe tired eyes. Made of 100% silk, this weighted eye pillow is filled with lavender to help your giftee relax and has an adjustable strap for a comfortable fit. It also comes with a gel eye mask, ideal for chilling to help cool and reduce puffy eyes.\",\n",
       "   'score': 0.97024,\n",
       "   'raw_content': None}],\n",
       " 'response_time': 2.38}"
      ]
     },
     "execution_count": 6,
     "metadata": {},
     "output_type": "execute_result"
    }
   ],
   "source": [
    "%timeit\n",
    "\n",
    "result = tavily.run(input=prompt)\n",
    "result"
   ]
  },
  {
   "cell_type": "code",
   "execution_count": 9,
   "metadata": {},
   "outputs": [
    {
     "data": {
      "text/plain": [
       "['https://www.nytimes.com/wirecutter/gifts/valentines-day-gifts-for-her/',\n",
       " 'https://www.cnn.com/cnn-underscored/gifts/best-valentines-day-gifts',\n",
       " 'https://www.glamour.com/story/best-valentines-day-gifts',\n",
       " 'https://www.self.com/story/best-valentines-day-gifts',\n",
       " 'https://www.bestproducts.com/lifestyle/g25605800/top-valentines-day-gifts/']"
      ]
     },
     "execution_count": 9,
     "metadata": {},
     "output_type": "execute_result"
    }
   ],
   "source": [
    "urls = [res['url'] for res in result['results']]\n",
    "urls"
   ]
  },
  {
   "cell_type": "code",
   "execution_count": 14,
   "metadata": {},
   "outputs": [
    {
     "ename": "AttributeError",
     "evalue": "'Ollama' object has no attribute '_lc_kwargs'",
     "output_type": "error",
     "traceback": [
      "\u001b[0;31m---------------------------------------------------------------------------\u001b[0m",
      "\u001b[0;31mAttributeError\u001b[0m                            Traceback (most recent call last)",
      "Cell \u001b[0;32mIn[14], line 1\u001b[0m\n\u001b[0;32m----> 1\u001b[0m scraper_result \u001b[38;5;241m=\u001b[39m \u001b[43mscraper\u001b[49m\u001b[38;5;241;43m.\u001b[39;49m\u001b[43mrun\u001b[49m\u001b[43m(\u001b[49m\u001b[38;5;28;43minput\u001b[39;49m\u001b[38;5;241;43m=\u001b[39;49m\u001b[43mprompt\u001b[49m\u001b[43m,\u001b[49m\u001b[43m \u001b[49m\n\u001b[1;32m      2\u001b[0m \u001b[43m                             \u001b[49m\u001b[43murls\u001b[49m\u001b[38;5;241;43m=\u001b[39;49m\u001b[43murls\u001b[49m\u001b[43m)\u001b[49m\n\u001b[1;32m      3\u001b[0m scraper_result\n",
      "File \u001b[0;32m~/Desktop/Lab/Challenges/GiftGuru/giftguru/engines/scraper.py:13\u001b[0m, in \u001b[0;36mScrapeWebWorker.run\u001b[0;34m(self, input, urls, log, prettify)\u001b[0m\n\u001b[1;32m     12\u001b[0m \u001b[38;5;28;01mdef\u001b[39;00m \u001b[38;5;21mrun\u001b[39m(\u001b[38;5;28mself\u001b[39m, \u001b[38;5;28minput\u001b[39m, urls:\u001b[38;5;28mlist\u001b[39m[\u001b[38;5;28mstr\u001b[39m], log\u001b[38;5;241m=\u001b[39m\u001b[38;5;28;01mFalse\u001b[39;00m, prettify:\u001b[38;5;28mbool\u001b[39m\u001b[38;5;241m=\u001b[39m\u001b[38;5;28;01mFalse\u001b[39;00m):\n\u001b[0;32m---> 13\u001b[0m     smart_scraper_graph \u001b[38;5;241m=\u001b[39m \u001b[43mSmartScraperMultiGraph\u001b[49m\u001b[43m(\u001b[49m\n\u001b[1;32m     14\u001b[0m \u001b[43m        \u001b[49m\u001b[43mprompt\u001b[49m\u001b[38;5;241;43m=\u001b[39;49m\u001b[38;5;28;43minput\u001b[39;49m\u001b[43m,\u001b[49m\n\u001b[1;32m     15\u001b[0m \u001b[43m        \u001b[49m\u001b[43msource\u001b[49m\u001b[38;5;241;43m=\u001b[39;49m\u001b[43murls\u001b[49m\u001b[43m,\u001b[49m\n\u001b[1;32m     16\u001b[0m \u001b[43m        \u001b[49m\u001b[43mconfig\u001b[49m\u001b[38;5;241;43m=\u001b[39;49m\u001b[38;5;28;43mself\u001b[39;49m\u001b[38;5;241;43m.\u001b[39;49m\u001b[43mconfig\u001b[49m\n\u001b[1;32m     17\u001b[0m \u001b[43m    \u001b[49m\u001b[43m)\u001b[49m\n\u001b[1;32m     19\u001b[0m     result \u001b[38;5;241m=\u001b[39m smart_scraper_graph\u001b[38;5;241m.\u001b[39mrun()\n\u001b[1;32m     20\u001b[0m     \u001b[38;5;28;01mif\u001b[39;00m prettify: \n",
      "File \u001b[0;32m~/anaconda3/envs/stoic_lab/lib/python3.11/site-packages/scrapegraphai/graphs/smart_scraper_multi_graph.py:57\u001b[0m, in \u001b[0;36mSmartScraperMultiGraph.__init__\u001b[0;34m(self, prompt, source, config, schema)\u001b[0m\n\u001b[1;32m     53\u001b[0m     \u001b[38;5;28mself\u001b[39m\u001b[38;5;241m.\u001b[39mcopy_config \u001b[38;5;241m=\u001b[39m deepcopy(config)\n\u001b[1;32m     55\u001b[0m \u001b[38;5;28mself\u001b[39m\u001b[38;5;241m.\u001b[39mcopy_schema \u001b[38;5;241m=\u001b[39m deepcopy(schema)\n\u001b[0;32m---> 57\u001b[0m \u001b[38;5;28;43msuper\u001b[39;49m\u001b[43m(\u001b[49m\u001b[43m)\u001b[49m\u001b[38;5;241;43m.\u001b[39;49m\u001b[38;5;21;43m__init__\u001b[39;49m\u001b[43m(\u001b[49m\u001b[43mprompt\u001b[49m\u001b[43m,\u001b[49m\u001b[43m \u001b[49m\u001b[43mconfig\u001b[49m\u001b[43m,\u001b[49m\u001b[43m \u001b[49m\u001b[43msource\u001b[49m\u001b[43m,\u001b[49m\u001b[43m \u001b[49m\u001b[43mschema\u001b[49m\u001b[43m)\u001b[49m\n",
      "File \u001b[0;32m~/anaconda3/envs/stoic_lab/lib/python3.11/site-packages/scrapegraphai/graphs/abstract_graph.py:77\u001b[0m, in \u001b[0;36mAbstractGraph.__init__\u001b[0;34m(self, prompt, config, source, schema)\u001b[0m\n\u001b[1;32m     75\u001b[0m \u001b[38;5;28mself\u001b[39m\u001b[38;5;241m.\u001b[39mschema \u001b[38;5;241m=\u001b[39m schema\n\u001b[1;32m     76\u001b[0m \u001b[38;5;28mself\u001b[39m\u001b[38;5;241m.\u001b[39mllm_model \u001b[38;5;241m=\u001b[39m \u001b[38;5;28mself\u001b[39m\u001b[38;5;241m.\u001b[39m_create_llm(config[\u001b[38;5;124m\"\u001b[39m\u001b[38;5;124mllm\u001b[39m\u001b[38;5;124m\"\u001b[39m], chat\u001b[38;5;241m=\u001b[39m\u001b[38;5;28;01mTrue\u001b[39;00m)\n\u001b[0;32m---> 77\u001b[0m \u001b[38;5;28mself\u001b[39m\u001b[38;5;241m.\u001b[39membedder_model \u001b[38;5;241m=\u001b[39m \u001b[38;5;28;43mself\u001b[39;49m\u001b[38;5;241;43m.\u001b[39;49m\u001b[43m_create_default_embedder\u001b[49m\u001b[43m(\u001b[49m\u001b[43mllm_config\u001b[49m\u001b[38;5;241;43m=\u001b[39;49m\u001b[43mconfig\u001b[49m\u001b[43m[\u001b[49m\u001b[38;5;124;43m\"\u001b[39;49m\u001b[38;5;124;43mllm\u001b[39;49m\u001b[38;5;124;43m\"\u001b[39;49m\u001b[43m]\u001b[49m\u001b[43m)\u001b[49m \u001b[38;5;28;01mif\u001b[39;00m \u001b[38;5;124m\"\u001b[39m\u001b[38;5;124membeddings\u001b[39m\u001b[38;5;124m\"\u001b[39m \u001b[38;5;129;01mnot\u001b[39;00m \u001b[38;5;129;01min\u001b[39;00m config \u001b[38;5;28;01melse\u001b[39;00m \u001b[38;5;28mself\u001b[39m\u001b[38;5;241m.\u001b[39m_create_embedder(\n\u001b[1;32m     78\u001b[0m     config[\u001b[38;5;124m\"\u001b[39m\u001b[38;5;124membeddings\u001b[39m\u001b[38;5;124m\"\u001b[39m])\n\u001b[1;32m     79\u001b[0m \u001b[38;5;28mself\u001b[39m\u001b[38;5;241m.\u001b[39mverbose \u001b[38;5;241m=\u001b[39m \u001b[38;5;28;01mFalse\u001b[39;00m \u001b[38;5;28;01mif\u001b[39;00m config \u001b[38;5;129;01mis\u001b[39;00m \u001b[38;5;28;01mNone\u001b[39;00m \u001b[38;5;28;01melse\u001b[39;00m config\u001b[38;5;241m.\u001b[39mget(\n\u001b[1;32m     80\u001b[0m     \u001b[38;5;124m\"\u001b[39m\u001b[38;5;124mverbose\u001b[39m\u001b[38;5;124m\"\u001b[39m, \u001b[38;5;28;01mFalse\u001b[39;00m)\n\u001b[1;32m     81\u001b[0m \u001b[38;5;28mself\u001b[39m\u001b[38;5;241m.\u001b[39mheadless \u001b[38;5;241m=\u001b[39m \u001b[38;5;28;01mTrue\u001b[39;00m \u001b[38;5;28;01mif\u001b[39;00m config \u001b[38;5;129;01mis\u001b[39;00m \u001b[38;5;28;01mNone\u001b[39;00m \u001b[38;5;28;01melse\u001b[39;00m config\u001b[38;5;241m.\u001b[39mget(\n\u001b[1;32m     82\u001b[0m     \u001b[38;5;124m\"\u001b[39m\u001b[38;5;124mheadless\u001b[39m\u001b[38;5;124m\"\u001b[39m, \u001b[38;5;28;01mTrue\u001b[39;00m)\n",
      "File \u001b[0;32m~/anaconda3/envs/stoic_lab/lib/python3.11/site-packages/scrapegraphai/graphs/abstract_graph.py:310\u001b[0m, in \u001b[0;36mAbstractGraph._create_default_embedder\u001b[0;34m(self, llm_config)\u001b[0m\n\u001b[1;32m    307\u001b[0m     \u001b[38;5;28;01mreturn\u001b[39;00m FireworksEmbeddings(model\u001b[38;5;241m=\u001b[39m\u001b[38;5;28mself\u001b[39m\u001b[38;5;241m.\u001b[39mllm_model\u001b[38;5;241m.\u001b[39mmodel_name)\n\u001b[1;32m    308\u001b[0m \u001b[38;5;28;01melif\u001b[39;00m \u001b[38;5;28misinstance\u001b[39m(\u001b[38;5;28mself\u001b[39m\u001b[38;5;241m.\u001b[39mllm_model, Ollama):\n\u001b[1;32m    309\u001b[0m     \u001b[38;5;66;03m# unwrap the kwargs from the model whihc is a dict\u001b[39;00m\n\u001b[0;32m--> 310\u001b[0m     params \u001b[38;5;241m=\u001b[39m \u001b[38;5;28;43mself\u001b[39;49m\u001b[38;5;241;43m.\u001b[39;49m\u001b[43mllm_model\u001b[49m\u001b[38;5;241;43m.\u001b[39;49m\u001b[43m_lc_kwargs\u001b[49m\n\u001b[1;32m    311\u001b[0m     \u001b[38;5;66;03m# remove streaming and temperature\u001b[39;00m\n\u001b[1;32m    312\u001b[0m     params\u001b[38;5;241m.\u001b[39mpop(\u001b[38;5;124m\"\u001b[39m\u001b[38;5;124mstreaming\u001b[39m\u001b[38;5;124m\"\u001b[39m, \u001b[38;5;28;01mNone\u001b[39;00m)\n",
      "\u001b[0;31mAttributeError\u001b[0m: 'Ollama' object has no attribute '_lc_kwargs'"
     ]
    }
   ],
   "source": [
    "scraper_result = scraper.run(input=prompt, \n",
    "                             urls=urls)\n",
    "scraper_result"
   ]
  },
  {
   "cell_type": "code",
   "execution_count": null,
   "metadata": {},
   "outputs": [],
   "source": [
    "https://www.nytimes.com"
   ]
  },
  {
   "cell_type": "code",
   "execution_count": null,
   "metadata": {},
   "outputs": [],
   "source": []
  },
  {
   "cell_type": "code",
   "execution_count": 1,
   "metadata": {},
   "outputs": [],
   "source": [
    "import os\n",
    "from dotenv import load_dotenv\n",
    "\n",
    "from setup_mindsdb import MindsDBServer\n",
    "from giftguru.agent import MindsAgent\n",
    "\n",
    "from utils import yaml_read\n",
    "load_dotenv()\n",
    "\n",
    "config = yaml_read('./config.yaml')\n",
    "minds_config = config['mindsdb']\n",
    "MINDSDB_API_KEY = os.getenv(\"MINDSDB_API_KEY\")\n"
   ]
  },
  {
   "cell_type": "code",
   "execution_count": 2,
   "metadata": {},
   "outputs": [
    {
     "data": {
      "text/plain": [
       "{'url': 'http://127.0.0.1:47334',\n",
       " 'project': 'giftguru',\n",
       " 'engine': 'minds_endpoint_engine',\n",
       " 'handler': 'minds_endpoint',\n",
       " 'model_name': 'mistral-7b',\n",
       " 'agent_name': 'minds_agent'}"
      ]
     },
     "execution_count": 2,
     "metadata": {},
     "output_type": "execute_result"
    }
   ],
   "source": [
    "minds_config"
   ]
  },
  {
   "cell_type": "code",
   "execution_count": 3,
   "metadata": {},
   "outputs": [],
   "source": [
    "mindsdb_server = MindsDBServer(config=minds_config)\n",
    "server = mindsdb_server.server\n",
    "project = mindsdb_server.project"
   ]
  },
  {
   "cell_type": "code",
   "execution_count": 4,
   "metadata": {},
   "outputs": [
    {
     "name": "stdout",
     "output_type": "stream",
     "text": [
      "[Project(giftguru), Project(mindsdb)]\n",
      "Create Engine\n",
      "[MLEngine(name='lightwood', handler='lightwood', connection_data='{}'), MLEngine(name='minds_endpoint_engine', handler='minds_endpoint', connection_data='{\"minds_endpoint_api_key\": \"fb4db80a6bf8b0d29a293f4b8bd74175adcf776f06aac9b7ff49506fad228a0a\"}')]\n",
      "Create Model\n",
      "Project(giftguru)\n",
      "Get model\n"
     ]
    }
   ],
   "source": [
    "mindsdb_agent = MindsAgent(server=mindsdb_server, \n",
    "                           config=minds_config, \n",
    "                           api_key=MINDSDB_API_KEY)\n"
   ]
  },
  {
   "cell_type": "code",
   "execution_count": 6,
   "metadata": {},
   "outputs": [
    {
     "name": "stdout",
     "output_type": "stream",
     "text": [
      "Model(minds_agent, status=complete)\n"
     ]
    },
    {
     "data": {
      "text/plain": [
       "\" The best gift for Christmas can vary depending on the person you are buying for. Some people might appreciate practical gifts like a new phone or laptop, while others might prefer more personalized gifts like a piece of jewelry or a photo album. If you're not sure what to get, you could consider asking the person what they would like or looking for gift ideas that align with their interests or hobbies.\""
      ]
     },
     "execution_count": 6,
     "metadata": {},
     "output_type": "execute_result"
    }
   ],
   "source": [
    "print(mindsdb_agent.model)\n",
    "prompt = \"What is the best gift for Christmas?\"\n",
    "result = mindsdb_agent.run(input=prompt)\n",
    "result"
   ]
  }
 ],
 "metadata": {
  "kernelspec": {
   "display_name": "stoic_lab",
   "language": "python",
   "name": "python3"
  },
  "language_info": {
   "codemirror_mode": {
    "name": "ipython",
    "version": 3
   },
   "file_extension": ".py",
   "mimetype": "text/x-python",
   "name": "python",
   "nbconvert_exporter": "python",
   "pygments_lexer": "ipython3",
   "version": "3.11.7"
  }
 },
 "nbformat": 4,
 "nbformat_minor": 2
}
